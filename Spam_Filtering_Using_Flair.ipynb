{
  "nbformat": 4,
  "nbformat_minor": 0,
  "metadata": {
    "colab": {
      "name": "Spam-Filtering-Using-Flair",
      "provenance": []
    },
    "kernelspec": {
      "name": "python3",
      "display_name": "Python 3"
    },
    "widgets": {
      "application/vnd.jupyter.widget-state+json": {
        "194fa99dcd0d4414be7d8a35b6e4632c": {
          "model_module": "@jupyter-widgets/controls",
          "model_name": "HBoxModel",
          "state": {
            "_view_name": "HBoxView",
            "_dom_classes": [],
            "_model_name": "HBoxModel",
            "_view_module": "@jupyter-widgets/controls",
            "_model_module_version": "1.5.0",
            "_view_count": null,
            "_view_module_version": "1.5.0",
            "box_style": "",
            "layout": "IPY_MODEL_2d0f8842ffaa49a8b6d3d465e9e1c262",
            "_model_module": "@jupyter-widgets/controls",
            "children": [
              "IPY_MODEL_a8064489b16d405f92b913dd026705f6",
              "IPY_MODEL_61e74dc91c1b45f78eafb00bf49b1872"
            ]
          }
        },
        "2d0f8842ffaa49a8b6d3d465e9e1c262": {
          "model_module": "@jupyter-widgets/base",
          "model_name": "LayoutModel",
          "state": {
            "_view_name": "LayoutView",
            "grid_template_rows": null,
            "right": null,
            "justify_content": null,
            "_view_module": "@jupyter-widgets/base",
            "overflow": null,
            "_model_module_version": "1.2.0",
            "_view_count": null,
            "flex_flow": null,
            "width": null,
            "min_width": null,
            "border": null,
            "align_items": null,
            "bottom": null,
            "_model_module": "@jupyter-widgets/base",
            "top": null,
            "grid_column": null,
            "overflow_y": null,
            "overflow_x": null,
            "grid_auto_flow": null,
            "grid_area": null,
            "grid_template_columns": null,
            "flex": null,
            "_model_name": "LayoutModel",
            "justify_items": null,
            "grid_row": null,
            "max_height": null,
            "align_content": null,
            "visibility": null,
            "align_self": null,
            "height": null,
            "min_height": null,
            "padding": null,
            "grid_auto_rows": null,
            "grid_gap": null,
            "max_width": null,
            "order": null,
            "_view_module_version": "1.2.0",
            "grid_template_areas": null,
            "object_position": null,
            "object_fit": null,
            "grid_auto_columns": null,
            "margin": null,
            "display": null,
            "left": null
          }
        },
        "a8064489b16d405f92b913dd026705f6": {
          "model_module": "@jupyter-widgets/controls",
          "model_name": "FloatProgressModel",
          "state": {
            "_view_name": "ProgressView",
            "style": "IPY_MODEL_38328909a14a4044a5f923e03864f843",
            "_dom_classes": [],
            "description": "Downloading: 100%",
            "_model_name": "FloatProgressModel",
            "bar_style": "success",
            "max": 442,
            "_view_module": "@jupyter-widgets/controls",
            "_model_module_version": "1.5.0",
            "value": 442,
            "_view_count": null,
            "_view_module_version": "1.5.0",
            "orientation": "horizontal",
            "min": 0,
            "description_tooltip": null,
            "_model_module": "@jupyter-widgets/controls",
            "layout": "IPY_MODEL_734c1ad58348409aad83473a15c077ea"
          }
        },
        "61e74dc91c1b45f78eafb00bf49b1872": {
          "model_module": "@jupyter-widgets/controls",
          "model_name": "HTMLModel",
          "state": {
            "_view_name": "HTMLView",
            "style": "IPY_MODEL_06db812d2a5442d0a85792f500e38e8b",
            "_dom_classes": [],
            "description": "",
            "_model_name": "HTMLModel",
            "placeholder": "​",
            "_view_module": "@jupyter-widgets/controls",
            "_model_module_version": "1.5.0",
            "value": " 442/442 [00:00&lt;00:00, 1.44kB/s]",
            "_view_count": null,
            "_view_module_version": "1.5.0",
            "description_tooltip": null,
            "_model_module": "@jupyter-widgets/controls",
            "layout": "IPY_MODEL_de0c4b41ad6e4da3aeefc90724a639f2"
          }
        },
        "38328909a14a4044a5f923e03864f843": {
          "model_module": "@jupyter-widgets/controls",
          "model_name": "ProgressStyleModel",
          "state": {
            "_view_name": "StyleView",
            "_model_name": "ProgressStyleModel",
            "description_width": "initial",
            "_view_module": "@jupyter-widgets/base",
            "_model_module_version": "1.5.0",
            "_view_count": null,
            "_view_module_version": "1.2.0",
            "bar_color": null,
            "_model_module": "@jupyter-widgets/controls"
          }
        },
        "734c1ad58348409aad83473a15c077ea": {
          "model_module": "@jupyter-widgets/base",
          "model_name": "LayoutModel",
          "state": {
            "_view_name": "LayoutView",
            "grid_template_rows": null,
            "right": null,
            "justify_content": null,
            "_view_module": "@jupyter-widgets/base",
            "overflow": null,
            "_model_module_version": "1.2.0",
            "_view_count": null,
            "flex_flow": null,
            "width": null,
            "min_width": null,
            "border": null,
            "align_items": null,
            "bottom": null,
            "_model_module": "@jupyter-widgets/base",
            "top": null,
            "grid_column": null,
            "overflow_y": null,
            "overflow_x": null,
            "grid_auto_flow": null,
            "grid_area": null,
            "grid_template_columns": null,
            "flex": null,
            "_model_name": "LayoutModel",
            "justify_items": null,
            "grid_row": null,
            "max_height": null,
            "align_content": null,
            "visibility": null,
            "align_self": null,
            "height": null,
            "min_height": null,
            "padding": null,
            "grid_auto_rows": null,
            "grid_gap": null,
            "max_width": null,
            "order": null,
            "_view_module_version": "1.2.0",
            "grid_template_areas": null,
            "object_position": null,
            "object_fit": null,
            "grid_auto_columns": null,
            "margin": null,
            "display": null,
            "left": null
          }
        },
        "06db812d2a5442d0a85792f500e38e8b": {
          "model_module": "@jupyter-widgets/controls",
          "model_name": "DescriptionStyleModel",
          "state": {
            "_view_name": "StyleView",
            "_model_name": "DescriptionStyleModel",
            "description_width": "",
            "_view_module": "@jupyter-widgets/base",
            "_model_module_version": "1.5.0",
            "_view_count": null,
            "_view_module_version": "1.2.0",
            "_model_module": "@jupyter-widgets/controls"
          }
        },
        "de0c4b41ad6e4da3aeefc90724a639f2": {
          "model_module": "@jupyter-widgets/base",
          "model_name": "LayoutModel",
          "state": {
            "_view_name": "LayoutView",
            "grid_template_rows": null,
            "right": null,
            "justify_content": null,
            "_view_module": "@jupyter-widgets/base",
            "overflow": null,
            "_model_module_version": "1.2.0",
            "_view_count": null,
            "flex_flow": null,
            "width": null,
            "min_width": null,
            "border": null,
            "align_items": null,
            "bottom": null,
            "_model_module": "@jupyter-widgets/base",
            "top": null,
            "grid_column": null,
            "overflow_y": null,
            "overflow_x": null,
            "grid_auto_flow": null,
            "grid_area": null,
            "grid_template_columns": null,
            "flex": null,
            "_model_name": "LayoutModel",
            "justify_items": null,
            "grid_row": null,
            "max_height": null,
            "align_content": null,
            "visibility": null,
            "align_self": null,
            "height": null,
            "min_height": null,
            "padding": null,
            "grid_auto_rows": null,
            "grid_gap": null,
            "max_width": null,
            "order": null,
            "_view_module_version": "1.2.0",
            "grid_template_areas": null,
            "object_position": null,
            "object_fit": null,
            "grid_auto_columns": null,
            "margin": null,
            "display": null,
            "left": null
          }
        },
        "67aa0d4506b34f04b364430794fbe4b4": {
          "model_module": "@jupyter-widgets/controls",
          "model_name": "HBoxModel",
          "state": {
            "_view_name": "HBoxView",
            "_dom_classes": [],
            "_model_name": "HBoxModel",
            "_view_module": "@jupyter-widgets/controls",
            "_model_module_version": "1.5.0",
            "_view_count": null,
            "_view_module_version": "1.5.0",
            "box_style": "",
            "layout": "IPY_MODEL_52bfd0fc71724fd68302e974f1bcff58",
            "_model_module": "@jupyter-widgets/controls",
            "children": [
              "IPY_MODEL_6811c72461c047a2baad388c6ec3f92b",
              "IPY_MODEL_535c81bcd5fd4a8d8e9e0a8b0b9d6979"
            ]
          }
        },
        "52bfd0fc71724fd68302e974f1bcff58": {
          "model_module": "@jupyter-widgets/base",
          "model_name": "LayoutModel",
          "state": {
            "_view_name": "LayoutView",
            "grid_template_rows": null,
            "right": null,
            "justify_content": null,
            "_view_module": "@jupyter-widgets/base",
            "overflow": null,
            "_model_module_version": "1.2.0",
            "_view_count": null,
            "flex_flow": null,
            "width": null,
            "min_width": null,
            "border": null,
            "align_items": null,
            "bottom": null,
            "_model_module": "@jupyter-widgets/base",
            "top": null,
            "grid_column": null,
            "overflow_y": null,
            "overflow_x": null,
            "grid_auto_flow": null,
            "grid_area": null,
            "grid_template_columns": null,
            "flex": null,
            "_model_name": "LayoutModel",
            "justify_items": null,
            "grid_row": null,
            "max_height": null,
            "align_content": null,
            "visibility": null,
            "align_self": null,
            "height": null,
            "min_height": null,
            "padding": null,
            "grid_auto_rows": null,
            "grid_gap": null,
            "max_width": null,
            "order": null,
            "_view_module_version": "1.2.0",
            "grid_template_areas": null,
            "object_position": null,
            "object_fit": null,
            "grid_auto_columns": null,
            "margin": null,
            "display": null,
            "left": null
          }
        },
        "6811c72461c047a2baad388c6ec3f92b": {
          "model_module": "@jupyter-widgets/controls",
          "model_name": "FloatProgressModel",
          "state": {
            "_view_name": "ProgressView",
            "style": "IPY_MODEL_6fbd7c928b6a456aa432a31f14e88278",
            "_dom_classes": [],
            "description": "Downloading: 100%",
            "_model_name": "FloatProgressModel",
            "bar_style": "success",
            "max": 231508,
            "_view_module": "@jupyter-widgets/controls",
            "_model_module_version": "1.5.0",
            "value": 231508,
            "_view_count": null,
            "_view_module_version": "1.5.0",
            "orientation": "horizontal",
            "min": 0,
            "description_tooltip": null,
            "_model_module": "@jupyter-widgets/controls",
            "layout": "IPY_MODEL_7cc8fc47cc9e4349b071820eb44c9418"
          }
        },
        "535c81bcd5fd4a8d8e9e0a8b0b9d6979": {
          "model_module": "@jupyter-widgets/controls",
          "model_name": "HTMLModel",
          "state": {
            "_view_name": "HTMLView",
            "style": "IPY_MODEL_1bb0ffff638f430aa0aaa5212fffed86",
            "_dom_classes": [],
            "description": "",
            "_model_name": "HTMLModel",
            "placeholder": "​",
            "_view_module": "@jupyter-widgets/controls",
            "_model_module_version": "1.5.0",
            "value": " 232k/232k [00:00&lt;00:00, 2.21MB/s]",
            "_view_count": null,
            "_view_module_version": "1.5.0",
            "description_tooltip": null,
            "_model_module": "@jupyter-widgets/controls",
            "layout": "IPY_MODEL_5eece88b3b8449d7b21d3e291ddeb8b8"
          }
        },
        "6fbd7c928b6a456aa432a31f14e88278": {
          "model_module": "@jupyter-widgets/controls",
          "model_name": "ProgressStyleModel",
          "state": {
            "_view_name": "StyleView",
            "_model_name": "ProgressStyleModel",
            "description_width": "initial",
            "_view_module": "@jupyter-widgets/base",
            "_model_module_version": "1.5.0",
            "_view_count": null,
            "_view_module_version": "1.2.0",
            "bar_color": null,
            "_model_module": "@jupyter-widgets/controls"
          }
        },
        "7cc8fc47cc9e4349b071820eb44c9418": {
          "model_module": "@jupyter-widgets/base",
          "model_name": "LayoutModel",
          "state": {
            "_view_name": "LayoutView",
            "grid_template_rows": null,
            "right": null,
            "justify_content": null,
            "_view_module": "@jupyter-widgets/base",
            "overflow": null,
            "_model_module_version": "1.2.0",
            "_view_count": null,
            "flex_flow": null,
            "width": null,
            "min_width": null,
            "border": null,
            "align_items": null,
            "bottom": null,
            "_model_module": "@jupyter-widgets/base",
            "top": null,
            "grid_column": null,
            "overflow_y": null,
            "overflow_x": null,
            "grid_auto_flow": null,
            "grid_area": null,
            "grid_template_columns": null,
            "flex": null,
            "_model_name": "LayoutModel",
            "justify_items": null,
            "grid_row": null,
            "max_height": null,
            "align_content": null,
            "visibility": null,
            "align_self": null,
            "height": null,
            "min_height": null,
            "padding": null,
            "grid_auto_rows": null,
            "grid_gap": null,
            "max_width": null,
            "order": null,
            "_view_module_version": "1.2.0",
            "grid_template_areas": null,
            "object_position": null,
            "object_fit": null,
            "grid_auto_columns": null,
            "margin": null,
            "display": null,
            "left": null
          }
        },
        "1bb0ffff638f430aa0aaa5212fffed86": {
          "model_module": "@jupyter-widgets/controls",
          "model_name": "DescriptionStyleModel",
          "state": {
            "_view_name": "StyleView",
            "_model_name": "DescriptionStyleModel",
            "description_width": "",
            "_view_module": "@jupyter-widgets/base",
            "_model_module_version": "1.5.0",
            "_view_count": null,
            "_view_module_version": "1.2.0",
            "_model_module": "@jupyter-widgets/controls"
          }
        },
        "5eece88b3b8449d7b21d3e291ddeb8b8": {
          "model_module": "@jupyter-widgets/base",
          "model_name": "LayoutModel",
          "state": {
            "_view_name": "LayoutView",
            "grid_template_rows": null,
            "right": null,
            "justify_content": null,
            "_view_module": "@jupyter-widgets/base",
            "overflow": null,
            "_model_module_version": "1.2.0",
            "_view_count": null,
            "flex_flow": null,
            "width": null,
            "min_width": null,
            "border": null,
            "align_items": null,
            "bottom": null,
            "_model_module": "@jupyter-widgets/base",
            "top": null,
            "grid_column": null,
            "overflow_y": null,
            "overflow_x": null,
            "grid_auto_flow": null,
            "grid_area": null,
            "grid_template_columns": null,
            "flex": null,
            "_model_name": "LayoutModel",
            "justify_items": null,
            "grid_row": null,
            "max_height": null,
            "align_content": null,
            "visibility": null,
            "align_self": null,
            "height": null,
            "min_height": null,
            "padding": null,
            "grid_auto_rows": null,
            "grid_gap": null,
            "max_width": null,
            "order": null,
            "_view_module_version": "1.2.0",
            "grid_template_areas": null,
            "object_position": null,
            "object_fit": null,
            "grid_auto_columns": null,
            "margin": null,
            "display": null,
            "left": null
          }
        }
      }
    }
  },
  "cells": [
    {
      "cell_type": "markdown",
      "metadata": {
        "id": "-KqH1RuW1Q8q",
        "colab_type": "text"
      },
      "source": [
        "Tutorial from: https://towardsdatascience.com/text-classification-with-state-of-the-art-nlp-library-flair-b541d7add21f"
      ]
    },
    {
      "cell_type": "code",
      "metadata": {
        "id": "bVqLWv1DSDyp",
        "colab_type": "code",
        "outputId": "b41f3b21-d4a1-4f09-8b48-57c8eda1cfbb",
        "colab": {
          "base_uri": "https://localhost:8080/",
          "height": 1000
        }
      },
      "source": [
        "# !pip install flair\n",
        "!pip install --upgrade git+https://github.com/flairNLP/flair.git"
      ],
      "execution_count": 1,
      "outputs": [
        {
          "output_type": "stream",
          "text": [
            "Collecting git+https://github.com/flairNLP/flair.git\n",
            "  Cloning https://github.com/flairNLP/flair.git to /tmp/pip-req-build-62cnu63h\n",
            "  Running command git clone -q https://github.com/flairNLP/flair.git /tmp/pip-req-build-62cnu63h\n",
            "  Installing build dependencies ... \u001b[?25l\u001b[?25hdone\n",
            "  Getting requirements to build wheel ... \u001b[?25l\u001b[?25hdone\n",
            "    Preparing wheel metadata ... \u001b[?25l\u001b[?25hdone\n",
            "Requirement already satisfied, skipping upgrade: scikit-learn>=0.21.3 in /usr/local/lib/python3.6/dist-packages (from flair==0.4.5) (0.22.2.post1)\n",
            "Requirement already satisfied, skipping upgrade: transformers>=2.6.0 in /usr/local/lib/python3.6/dist-packages (from flair==0.4.5) (2.10.0)\n",
            "Requirement already satisfied, skipping upgrade: langdetect in /usr/local/lib/python3.6/dist-packages (from flair==0.4.5) (1.0.8)\n",
            "Requirement already satisfied, skipping upgrade: tqdm>=4.26.0 in /usr/local/lib/python3.6/dist-packages (from flair==0.4.5) (4.41.1)\n",
            "Requirement already satisfied, skipping upgrade: gensim>=3.4.0 in /usr/local/lib/python3.6/dist-packages (from flair==0.4.5) (3.6.0)\n",
            "Requirement already satisfied, skipping upgrade: mpld3==0.3 in /usr/local/lib/python3.6/dist-packages (from flair==0.4.5) (0.3)\n",
            "Requirement already satisfied, skipping upgrade: regex in /usr/local/lib/python3.6/dist-packages (from flair==0.4.5) (2019.12.20)\n",
            "Requirement already satisfied, skipping upgrade: matplotlib>=2.2.3 in /usr/local/lib/python3.6/dist-packages (from flair==0.4.5) (3.2.1)\n",
            "Requirement already satisfied, skipping upgrade: tabulate in /usr/local/lib/python3.6/dist-packages (from flair==0.4.5) (0.8.7)\n",
            "Requirement already satisfied, skipping upgrade: bpemb>=0.2.9 in /usr/local/lib/python3.6/dist-packages (from flair==0.4.5) (0.3.0)\n",
            "Requirement already satisfied, skipping upgrade: pytest>=5.3.2 in /usr/local/lib/python3.6/dist-packages (from flair==0.4.5) (5.4.2)\n",
            "Requirement already satisfied, skipping upgrade: python-dateutil>=2.6.1 in /usr/local/lib/python3.6/dist-packages (from flair==0.4.5) (2.8.1)\n",
            "Requirement already satisfied, skipping upgrade: deprecated>=1.2.4 in /usr/local/lib/python3.6/dist-packages (from flair==0.4.5) (1.2.10)\n",
            "Requirement already satisfied, skipping upgrade: torch>=1.1.0 in /usr/local/lib/python3.6/dist-packages (from flair==0.4.5) (1.5.0+cu101)\n",
            "Requirement already satisfied, skipping upgrade: hyperopt>=0.1.1 in /usr/local/lib/python3.6/dist-packages (from flair==0.4.5) (0.1.2)\n",
            "Requirement already satisfied, skipping upgrade: segtok>=1.5.7 in /usr/local/lib/python3.6/dist-packages (from flair==0.4.5) (1.5.10)\n",
            "Requirement already satisfied, skipping upgrade: sqlitedict>=1.6.0 in /usr/local/lib/python3.6/dist-packages (from flair==0.4.5) (1.6.0)\n",
            "Requirement already satisfied, skipping upgrade: numpy>=1.11.0 in /usr/local/lib/python3.6/dist-packages (from scikit-learn>=0.21.3->flair==0.4.5) (1.18.4)\n",
            "Requirement already satisfied, skipping upgrade: scipy>=0.17.0 in /usr/local/lib/python3.6/dist-packages (from scikit-learn>=0.21.3->flair==0.4.5) (1.4.1)\n",
            "Requirement already satisfied, skipping upgrade: joblib>=0.11 in /usr/local/lib/python3.6/dist-packages (from scikit-learn>=0.21.3->flair==0.4.5) (0.15.1)\n",
            "Requirement already satisfied, skipping upgrade: tokenizers==0.7.0 in /usr/local/lib/python3.6/dist-packages (from transformers>=2.6.0->flair==0.4.5) (0.7.0)\n",
            "Requirement already satisfied, skipping upgrade: sentencepiece in /usr/local/lib/python3.6/dist-packages (from transformers>=2.6.0->flair==0.4.5) (0.1.91)\n",
            "Requirement already satisfied, skipping upgrade: dataclasses; python_version < \"3.7\" in /usr/local/lib/python3.6/dist-packages (from transformers>=2.6.0->flair==0.4.5) (0.7)\n",
            "Requirement already satisfied, skipping upgrade: requests in /usr/local/lib/python3.6/dist-packages (from transformers>=2.6.0->flair==0.4.5) (2.23.0)\n",
            "Requirement already satisfied, skipping upgrade: sacremoses in /usr/local/lib/python3.6/dist-packages (from transformers>=2.6.0->flair==0.4.5) (0.0.43)\n",
            "Requirement already satisfied, skipping upgrade: filelock in /usr/local/lib/python3.6/dist-packages (from transformers>=2.6.0->flair==0.4.5) (3.0.12)\n",
            "Requirement already satisfied, skipping upgrade: six in /usr/local/lib/python3.6/dist-packages (from langdetect->flair==0.4.5) (1.12.0)\n",
            "Requirement already satisfied, skipping upgrade: smart-open>=1.2.1 in /usr/local/lib/python3.6/dist-packages (from gensim>=3.4.0->flair==0.4.5) (2.0.0)\n",
            "Requirement already satisfied, skipping upgrade: kiwisolver>=1.0.1 in /usr/local/lib/python3.6/dist-packages (from matplotlib>=2.2.3->flair==0.4.5) (1.2.0)\n",
            "Requirement already satisfied, skipping upgrade: pyparsing!=2.0.4,!=2.1.2,!=2.1.6,>=2.0.1 in /usr/local/lib/python3.6/dist-packages (from matplotlib>=2.2.3->flair==0.4.5) (2.4.7)\n",
            "Requirement already satisfied, skipping upgrade: cycler>=0.10 in /usr/local/lib/python3.6/dist-packages (from matplotlib>=2.2.3->flair==0.4.5) (0.10.0)\n",
            "Requirement already satisfied, skipping upgrade: importlib-metadata>=0.12; python_version < \"3.8\" in /usr/local/lib/python3.6/dist-packages (from pytest>=5.3.2->flair==0.4.5) (1.6.0)\n",
            "Requirement already satisfied, skipping upgrade: pluggy<1.0,>=0.12 in /usr/local/lib/python3.6/dist-packages (from pytest>=5.3.2->flair==0.4.5) (0.13.1)\n",
            "Requirement already satisfied, skipping upgrade: packaging in /usr/local/lib/python3.6/dist-packages (from pytest>=5.3.2->flair==0.4.5) (20.4)\n",
            "Requirement already satisfied, skipping upgrade: attrs>=17.4.0 in /usr/local/lib/python3.6/dist-packages (from pytest>=5.3.2->flair==0.4.5) (19.3.0)\n",
            "Requirement already satisfied, skipping upgrade: py>=1.5.0 in /usr/local/lib/python3.6/dist-packages (from pytest>=5.3.2->flair==0.4.5) (1.8.1)\n",
            "Requirement already satisfied, skipping upgrade: more-itertools>=4.0.0 in /usr/local/lib/python3.6/dist-packages (from pytest>=5.3.2->flair==0.4.5) (8.3.0)\n",
            "Requirement already satisfied, skipping upgrade: wcwidth in /usr/local/lib/python3.6/dist-packages (from pytest>=5.3.2->flair==0.4.5) (0.1.9)\n",
            "Requirement already satisfied, skipping upgrade: wrapt<2,>=1.10 in /usr/local/lib/python3.6/dist-packages (from deprecated>=1.2.4->flair==0.4.5) (1.12.1)\n",
            "Requirement already satisfied, skipping upgrade: future in /usr/local/lib/python3.6/dist-packages (from torch>=1.1.0->flair==0.4.5) (0.16.0)\n",
            "Requirement already satisfied, skipping upgrade: pymongo in /usr/local/lib/python3.6/dist-packages (from hyperopt>=0.1.1->flair==0.4.5) (3.10.1)\n",
            "Requirement already satisfied, skipping upgrade: networkx in /usr/local/lib/python3.6/dist-packages (from hyperopt>=0.1.1->flair==0.4.5) (2.4)\n",
            "Requirement already satisfied, skipping upgrade: chardet<4,>=3.0.2 in /usr/local/lib/python3.6/dist-packages (from requests->transformers>=2.6.0->flair==0.4.5) (3.0.4)\n",
            "Requirement already satisfied, skipping upgrade: certifi>=2017.4.17 in /usr/local/lib/python3.6/dist-packages (from requests->transformers>=2.6.0->flair==0.4.5) (2020.4.5.1)\n",
            "Requirement already satisfied, skipping upgrade: urllib3!=1.25.0,!=1.25.1,<1.26,>=1.21.1 in /usr/local/lib/python3.6/dist-packages (from requests->transformers>=2.6.0->flair==0.4.5) (1.24.3)\n",
            "Requirement already satisfied, skipping upgrade: idna<3,>=2.5 in /usr/local/lib/python3.6/dist-packages (from requests->transformers>=2.6.0->flair==0.4.5) (2.9)\n",
            "Requirement already satisfied, skipping upgrade: click in /usr/local/lib/python3.6/dist-packages (from sacremoses->transformers>=2.6.0->flair==0.4.5) (7.1.2)\n",
            "Requirement already satisfied, skipping upgrade: boto in /usr/local/lib/python3.6/dist-packages (from smart-open>=1.2.1->gensim>=3.4.0->flair==0.4.5) (2.49.0)\n",
            "Requirement already satisfied, skipping upgrade: boto3 in /usr/local/lib/python3.6/dist-packages (from smart-open>=1.2.1->gensim>=3.4.0->flair==0.4.5) (1.13.13)\n",
            "Requirement already satisfied, skipping upgrade: zipp>=0.5 in /usr/local/lib/python3.6/dist-packages (from importlib-metadata>=0.12; python_version < \"3.8\"->pytest>=5.3.2->flair==0.4.5) (3.1.0)\n",
            "Requirement already satisfied, skipping upgrade: decorator>=4.3.0 in /usr/local/lib/python3.6/dist-packages (from networkx->hyperopt>=0.1.1->flair==0.4.5) (4.4.2)\n",
            "Requirement already satisfied, skipping upgrade: jmespath<1.0.0,>=0.7.1 in /usr/local/lib/python3.6/dist-packages (from boto3->smart-open>=1.2.1->gensim>=3.4.0->flair==0.4.5) (0.10.0)\n",
            "Requirement already satisfied, skipping upgrade: botocore<1.17.0,>=1.16.13 in /usr/local/lib/python3.6/dist-packages (from boto3->smart-open>=1.2.1->gensim>=3.4.0->flair==0.4.5) (1.16.13)\n",
            "Requirement already satisfied, skipping upgrade: s3transfer<0.4.0,>=0.3.0 in /usr/local/lib/python3.6/dist-packages (from boto3->smart-open>=1.2.1->gensim>=3.4.0->flair==0.4.5) (0.3.3)\n",
            "Requirement already satisfied, skipping upgrade: docutils<0.16,>=0.10 in /usr/local/lib/python3.6/dist-packages (from botocore<1.17.0,>=1.16.13->boto3->smart-open>=1.2.1->gensim>=3.4.0->flair==0.4.5) (0.15.2)\n",
            "Building wheels for collected packages: flair\n",
            "  Building wheel for flair (PEP 517) ... \u001b[?25l\u001b[?25hdone\n",
            "  Created wheel for flair: filename=flair-0.4.5-cp36-none-any.whl size=148758 sha256=9b7bf6bad97647872e6d328a980d3ce157e9ca185bf2d3eb7cec95e5a579c576\n",
            "  Stored in directory: /tmp/pip-ephem-wheel-cache-1pvibebp/wheels/84/82/73/d2b3b59b7be74ea05f2c6d64132efe27df52daffb47d1dc7bb\n",
            "Successfully built flair\n",
            "Installing collected packages: flair\n",
            "  Found existing installation: flair 0.4.5\n",
            "    Uninstalling flair-0.4.5:\n",
            "      Successfully uninstalled flair-0.4.5\n",
            "Successfully installed flair-0.4.5\n"
          ],
          "name": "stdout"
        }
      ]
    },
    {
      "cell_type": "code",
      "metadata": {
        "id": "CFwkipffSF6z",
        "colab_type": "code",
        "colab": {}
      },
      "source": [
        "import pandas as pd\n",
        "from flair.data_fetcher import NLPTaskDataFetcher\n",
        "from flair.embeddings import WordEmbeddings, FlairEmbeddings, DocumentLSTMEmbeddings\n",
        "from flair.models import TextClassifier\n",
        "from flair.trainers import ModelTrainer\n",
        "from pathlib import Path"
      ],
      "execution_count": 0,
      "outputs": []
    },
    {
      "cell_type": "markdown",
      "metadata": {
        "id": "jHKUEofO3lwt",
        "colab_type": "text"
      },
      "source": [
        "## Using a Pre-Trained Classification Model"
      ]
    },
    {
      "cell_type": "code",
      "metadata": {
        "id": "Hhdq1EeZ0sb_",
        "colab_type": "code",
        "colab": {
          "base_uri": "https://localhost:8080/",
          "height": 235,
          "referenced_widgets": [
            "194fa99dcd0d4414be7d8a35b6e4632c",
            "2d0f8842ffaa49a8b6d3d465e9e1c262",
            "a8064489b16d405f92b913dd026705f6",
            "61e74dc91c1b45f78eafb00bf49b1872",
            "38328909a14a4044a5f923e03864f843",
            "734c1ad58348409aad83473a15c077ea",
            "06db812d2a5442d0a85792f500e38e8b",
            "de0c4b41ad6e4da3aeefc90724a639f2",
            "67aa0d4506b34f04b364430794fbe4b4",
            "52bfd0fc71724fd68302e974f1bcff58",
            "6811c72461c047a2baad388c6ec3f92b",
            "535c81bcd5fd4a8d8e9e0a8b0b9d6979",
            "6fbd7c928b6a456aa432a31f14e88278",
            "7cc8fc47cc9e4349b071820eb44c9418",
            "1bb0ffff638f430aa0aaa5212fffed86",
            "5eece88b3b8449d7b21d3e291ddeb8b8"
          ]
        },
        "outputId": "35d1cfc5-17c2-4677-bded-2892c81f5b78"
      },
      "source": [
        "# An example showing the use of pre-trained sentiment analysis model trained on the IMDB dataset\n",
        "\n",
        "from flair.models import TextClassifier\n",
        "from flair.data import Sentence\n",
        "classifier = TextClassifier.load('en-sentiment')\n",
        "sentence = Sentence('Flair is pretty neat!')\n",
        "classifier.predict(sentence)\n",
        "# print sentence with predicted labels\n",
        "print('Sentence above is: ', sentence.labels)"
      ],
      "execution_count": 3,
      "outputs": [
        {
          "output_type": "stream",
          "text": [
            "2020-05-23 14:29:30,919 https://nlp.informatik.hu-berlin.de/resources/models/sentiment-curated-distilbert/sentiment-en-mix-distillbert.pt not found in cache, downloading to /tmp/tmp7mioqugz\n"
          ],
          "name": "stdout"
        },
        {
          "output_type": "stream",
          "text": [
            "100%|██████████| 266170364/266170364 [00:19<00:00, 13665621.54B/s]"
          ],
          "name": "stderr"
        },
        {
          "output_type": "stream",
          "text": [
            "2020-05-23 14:29:50,757 copying /tmp/tmp7mioqugz to cache at /root/.flair/models/sentiment-en-mix-distillbert.pt\n"
          ],
          "name": "stdout"
        },
        {
          "output_type": "stream",
          "text": [
            "\n"
          ],
          "name": "stderr"
        },
        {
          "output_type": "stream",
          "text": [
            "2020-05-23 14:29:51,490 removing temp file /tmp/tmp7mioqugz\n",
            "2020-05-23 14:29:52,068 loading file /root/.flair/models/sentiment-en-mix-distillbert.pt\n"
          ],
          "name": "stdout"
        },
        {
          "output_type": "display_data",
          "data": {
            "application/vnd.jupyter.widget-view+json": {
              "model_id": "194fa99dcd0d4414be7d8a35b6e4632c",
              "version_minor": 0,
              "version_major": 2
            },
            "text/plain": [
              "HBox(children=(FloatProgress(value=0.0, description='Downloading', max=442.0, style=ProgressStyle(description_…"
            ]
          },
          "metadata": {
            "tags": []
          }
        },
        {
          "output_type": "stream",
          "text": [
            "\n"
          ],
          "name": "stdout"
        },
        {
          "output_type": "display_data",
          "data": {
            "application/vnd.jupyter.widget-view+json": {
              "model_id": "67aa0d4506b34f04b364430794fbe4b4",
              "version_minor": 0,
              "version_major": 2
            },
            "text/plain": [
              "HBox(children=(FloatProgress(value=0.0, description='Downloading', max=231508.0, style=ProgressStyle(descripti…"
            ]
          },
          "metadata": {
            "tags": []
          }
        },
        {
          "output_type": "stream",
          "text": [
            "\n",
            "Sentence above is:  [POSITIVE (0.9997)]\n"
          ],
          "name": "stdout"
        }
      ]
    },
    {
      "cell_type": "markdown",
      "metadata": {
        "id": "0NTI1iUH32iw",
        "colab_type": "text"
      },
      "source": [
        "# Training a Custom Text Classifier"
      ]
    },
    {
      "cell_type": "markdown",
      "metadata": {
        "id": "wGudk0eMS4Ma",
        "colab_type": "text"
      },
      "source": [
        "## Load and Pre-process the data"
      ]
    },
    {
      "cell_type": "code",
      "metadata": {
        "id": "-Ca5dO2qS1P5",
        "colab_type": "code",
        "colab": {}
      },
      "source": [
        "data = pd.read_csv(\"./spam.csv\", encoding='latin-1').sample(frac=1).drop_duplicates()\n",
        "data = data[['v1', 'v2']].rename(columns={\"v1\":\"label\", \"v2\":\"text\"})\n",
        " \n",
        "data['label'] = '__label__' + data['label'].astype(str)\n",
        "data.iloc[0:int(len(data)*0.8)].to_csv('train.csv', sep='\\t', index = False, header = False)\n",
        "data.iloc[int(len(data)*0.8):int(len(data)*0.9)].to_csv('test.csv', sep='\\t', index = False, header = False)\n",
        "data.iloc[int(len(data)*0.9):].to_csv('dev.csv', sep='\\t', index = False, header = False);"
      ],
      "execution_count": 0,
      "outputs": []
    },
    {
      "cell_type": "markdown",
      "metadata": {
        "id": "f7VTDJ-pZhBk",
        "colab_type": "text"
      },
      "source": [
        "## Train the model"
      ]
    },
    {
      "cell_type": "code",
      "metadata": {
        "id": "yCCYWIx82-p-",
        "colab_type": "code",
        "colab": {
          "base_uri": "https://localhost:8080/",
          "height": 84
        },
        "outputId": "ed119606-54d3-49d2-b30d-8546a67c4b01"
      },
      "source": [
        "# Format data in FastText format, in which each line in the file represents a text document. \n",
        "# A document can have one or multiple labels that are defined at the beginning of the line starting with the prefix __label__.\n",
        "\n",
        "from flair.data import Corpus\n",
        "from flair.datasets import ClassificationCorpus\n",
        "\n",
        "# this is the folder in which train, test and dev files reside\n",
        "data_folder = './'\n",
        "\n",
        "# load corpus containing training, test and dev data\n",
        "corpus: Corpus = ClassificationCorpus(data_folder,\n",
        "                                      test_file='test.csv',\n",
        "                                      dev_file='dev.csv',\n",
        "                                      train_file='train.csv')"
      ],
      "execution_count": 6,
      "outputs": [
        {
          "output_type": "stream",
          "text": [
            "2020-05-23 14:35:32,274 Reading data from .\n",
            "2020-05-23 14:35:32,276 Train: train.csv\n",
            "2020-05-23 14:35:32,277 Dev: dev.csv\n",
            "2020-05-23 14:35:32,278 Test: test.csv\n"
          ],
          "name": "stdout"
        }
      ]
    },
    {
      "cell_type": "code",
      "metadata": {
        "id": "ppI57tt1Y2bA",
        "colab_type": "code",
        "outputId": "3bc50622-08bf-4aac-b655-0a70b3d089ec",
        "colab": {
          "base_uri": "https://localhost:8080/",
          "height": 1000
        }
      },
      "source": [
        "from flair.data_fetcher import NLPTaskDataFetcher\n",
        "from flair import datasets\n",
        "from flair.embeddings import WordEmbeddings, FlairEmbeddings, DocumentLSTMEmbeddings\n",
        "from flair.models import TextClassifier\n",
        "from flair.trainers import ModelTrainer\n",
        "from pathlib import Path\n",
        "\n",
        "# corpus = NLPTaskDataFetcher.load_classification_corpus(Path('./'), test_file='test.csv', dev_file='dev.csv', train_file='train.csv')\n",
        "\n",
        "word_embeddings = [WordEmbeddings('glove'), FlairEmbeddings('news-forward-fast'), FlairEmbeddings('news-backward-fast')]\n",
        "\n",
        "document_embeddings = DocumentLSTMEmbeddings(word_embeddings, hidden_size=512, reproject_words=True, reproject_words_dimension=256)\n",
        "\n",
        "classifier = TextClassifier(document_embeddings, label_dictionary=corpus.make_label_dictionary(), multi_label=False)\n",
        "trainer = ModelTrainer(classifier, corpus)\n",
        "trainer.train('./', max_epochs=10)"
      ],
      "execution_count": 7,
      "outputs": [
        {
          "output_type": "stream",
          "text": [
            "2020-05-23 14:35:32,840 https://s3.eu-central-1.amazonaws.com/alan-nlp/resources/embeddings/glove.gensim.vectors.npy not found in cache, downloading to /tmp/tmpt9hftob_\n"
          ],
          "name": "stdout"
        },
        {
          "output_type": "stream",
          "text": [
            "100%|██████████| 160000128/160000128 [00:07<00:00, 21389040.83B/s]"
          ],
          "name": "stderr"
        },
        {
          "output_type": "stream",
          "text": [
            "2020-05-23 14:35:40,750 copying /tmp/tmpt9hftob_ to cache at /root/.flair/embeddings/glove.gensim.vectors.npy\n"
          ],
          "name": "stdout"
        },
        {
          "output_type": "stream",
          "text": [
            "\n"
          ],
          "name": "stderr"
        },
        {
          "output_type": "stream",
          "text": [
            "2020-05-23 14:35:41,247 removing temp file /tmp/tmpt9hftob_\n",
            "2020-05-23 14:35:42,578 https://s3.eu-central-1.amazonaws.com/alan-nlp/resources/embeddings/glove.gensim not found in cache, downloading to /tmp/tmp9qe4c8q3\n"
          ],
          "name": "stdout"
        },
        {
          "output_type": "stream",
          "text": [
            "100%|██████████| 21494764/21494764 [00:01<00:00, 13444180.89B/s]\n"
          ],
          "name": "stderr"
        },
        {
          "output_type": "stream",
          "text": [
            "2020-05-23 14:35:44,599 copying /tmp/tmp9qe4c8q3 to cache at /root/.flair/embeddings/glove.gensim\n",
            "2020-05-23 14:35:44,624 removing temp file /tmp/tmp9qe4c8q3\n"
          ],
          "name": "stdout"
        },
        {
          "output_type": "stream",
          "text": [
            "/usr/local/lib/python3.6/dist-packages/smart_open/smart_open_lib.py:253: UserWarning: This function is deprecated, use smart_open.open instead. See the migration notes for details: https://github.com/RaRe-Technologies/smart_open/blob/master/README.rst#migrating-to-the-new-open-function\n",
            "  'See the migration notes for details: %s' % _MIGRATION_NOTES_URL\n"
          ],
          "name": "stderr"
        },
        {
          "output_type": "stream",
          "text": [
            "2020-05-23 14:35:46,771 https://s3.eu-central-1.amazonaws.com/alan-nlp/resources/embeddings/lm-news-english-forward-1024-v0.2rc.pt not found in cache, downloading to /tmp/tmpehcekv1q\n"
          ],
          "name": "stdout"
        },
        {
          "output_type": "stream",
          "text": [
            "100%|██████████| 19689779/19689779 [00:01<00:00, 12910411.31B/s]"
          ],
          "name": "stderr"
        },
        {
          "output_type": "stream",
          "text": [
            "2020-05-23 14:35:48,839 copying /tmp/tmpehcekv1q to cache at /root/.flair/embeddings/lm-news-english-forward-1024-v0.2rc.pt\n",
            "2020-05-23 14:35:48,865 removing temp file /tmp/tmpehcekv1q\n"
          ],
          "name": "stdout"
        },
        {
          "output_type": "stream",
          "text": [
            "\n"
          ],
          "name": "stderr"
        },
        {
          "output_type": "stream",
          "text": [
            "2020-05-23 14:35:49,658 https://s3.eu-central-1.amazonaws.com/alan-nlp/resources/embeddings/lm-news-english-backward-1024-v0.2rc.pt not found in cache, downloading to /tmp/tmpxo8zwuwu\n"
          ],
          "name": "stdout"
        },
        {
          "output_type": "stream",
          "text": [
            "100%|██████████| 19689779/19689779 [00:01<00:00, 12972707.70B/s]"
          ],
          "name": "stderr"
        },
        {
          "output_type": "stream",
          "text": [
            "2020-05-23 14:35:51,701 copying /tmp/tmpxo8zwuwu to cache at /root/.flair/embeddings/lm-news-english-backward-1024-v0.2rc.pt\n",
            "2020-05-23 14:35:51,729 removing temp file /tmp/tmpxo8zwuwu\n"
          ],
          "name": "stdout"
        },
        {
          "output_type": "stream",
          "text": [
            "\n"
          ],
          "name": "stderr"
        },
        {
          "output_type": "stream",
          "text": [
            "2020-05-23 14:35:52,097 Computing label dictionary. Progress:\n"
          ],
          "name": "stdout"
        },
        {
          "output_type": "stream",
          "text": [
            "/usr/local/lib/python3.6/dist-packages/ipykernel_launcher.py:12: DeprecationWarning: Call to deprecated method __init__. (The functionality of this class is moved to 'DocumentRNNEmbeddings') -- Deprecated since version 0.4.\n",
            "  if sys.path[0] == '':\n",
            "100%|██████████| 4635/4635 [00:03<00:00, 1352.57it/s]"
          ],
          "name": "stderr"
        },
        {
          "output_type": "stream",
          "text": [
            "2020-05-23 14:35:55,699 [b'spam', b'ham']\n",
            "2020-05-23 14:35:55,722 ----------------------------------------------------------------------------------------------------\n",
            "2020-05-23 14:35:55,723 Model: \"TextClassifier(\n",
            "  (document_embeddings): DocumentLSTMEmbeddings(\n",
            "    (embeddings): StackedEmbeddings(\n",
            "      (list_embedding_0): WordEmbeddings('glove')\n",
            "      (list_embedding_1): FlairEmbeddings(\n",
            "        (lm): LanguageModel(\n",
            "          (drop): Dropout(p=0.25, inplace=False)\n",
            "          (encoder): Embedding(275, 100)\n",
            "          (rnn): LSTM(100, 1024)\n",
            "          (decoder): Linear(in_features=1024, out_features=275, bias=True)\n",
            "        )\n",
            "      )\n",
            "      (list_embedding_2): FlairEmbeddings(\n",
            "        (lm): LanguageModel(\n",
            "          (drop): Dropout(p=0.25, inplace=False)\n",
            "          (encoder): Embedding(275, 100)\n",
            "          (rnn): LSTM(100, 1024)\n",
            "          (decoder): Linear(in_features=1024, out_features=275, bias=True)\n",
            "        )\n",
            "      )\n",
            "    )\n",
            "    (word_reprojection_map): Linear(in_features=2148, out_features=256, bias=True)\n",
            "    (rnn): GRU(256, 512)\n",
            "    (dropout): Dropout(p=0.5, inplace=False)\n",
            "  )\n",
            "  (decoder): Linear(in_features=512, out_features=2, bias=True)\n",
            "  (loss_function): CrossEntropyLoss()\n",
            "  (beta): 1.0\n",
            "  (weights): None\n",
            "  (weight_tensor) None\n",
            ")\"\n",
            "2020-05-23 14:35:55,725 ----------------------------------------------------------------------------------------------------\n",
            "2020-05-23 14:35:55,726 Corpus: \"Corpus: 4121 train + 515 dev + 514 test sentences\"\n",
            "2020-05-23 14:35:55,729 ----------------------------------------------------------------------------------------------------\n",
            "2020-05-23 14:35:55,730 Parameters:\n",
            "2020-05-23 14:35:55,731  - learning_rate: \"0.1\"\n",
            "2020-05-23 14:35:55,733  - mini_batch_size: \"32\"\n",
            "2020-05-23 14:35:55,734  - patience: \"3\"\n",
            "2020-05-23 14:35:55,735  - anneal_factor: \"0.5\"\n",
            "2020-05-23 14:35:55,737  - max_epochs: \"10\"\n",
            "2020-05-23 14:35:55,738  - shuffle: \"True\"\n",
            "2020-05-23 14:35:55,740  - train_with_dev: \"False\"\n",
            "2020-05-23 14:35:55,741  - batch_growth_annealing: \"False\"\n",
            "2020-05-23 14:35:55,743 ----------------------------------------------------------------------------------------------------\n",
            "2020-05-23 14:35:55,745 Model training base path: \".\"\n",
            "2020-05-23 14:35:55,747 ----------------------------------------------------------------------------------------------------\n",
            "2020-05-23 14:35:55,748 Device: cpu\n",
            "2020-05-23 14:35:55,751 ----------------------------------------------------------------------------------------------------\n",
            "2020-05-23 14:35:55,751 Embeddings storage mode: cpu\n",
            "2020-05-23 14:35:55,754 ----------------------------------------------------------------------------------------------------\n"
          ],
          "name": "stdout"
        },
        {
          "output_type": "stream",
          "text": [
            "\n",
            "/pytorch/torch/csrc/utils/tensor_numpy.cpp:141: UserWarning: The given NumPy array is not writeable, and PyTorch does not support non-writeable tensors. This means you can write to the underlying (supposedly non-writeable) NumPy array using the tensor. You may want to copy the array to protect its data or make it writeable before converting it to a tensor. This type of warning will be suppressed for the rest of this program.\n"
          ],
          "name": "stderr"
        },
        {
          "output_type": "stream",
          "text": [
            "2020-05-23 14:36:52,042 epoch 1 - iter 12/129 - loss 0.32657409 - samples/sec: 6.86\n",
            "2020-05-23 14:37:42,181 epoch 1 - iter 24/129 - loss 0.28789113 - samples/sec: 7.73\n",
            "2020-05-23 14:38:29,614 epoch 1 - iter 36/129 - loss 0.26211145 - samples/sec: 8.10\n",
            "2020-05-23 14:39:20,707 epoch 1 - iter 48/129 - loss 0.23121870 - samples/sec: 7.52\n",
            "2020-05-23 14:40:10,757 epoch 1 - iter 60/129 - loss 0.21610988 - samples/sec: 7.68\n",
            "2020-05-23 14:41:04,395 epoch 1 - iter 72/129 - loss 0.20536498 - samples/sec: 7.17\n",
            "2020-05-23 14:42:01,033 epoch 1 - iter 84/129 - loss 0.19021510 - samples/sec: 6.85\n",
            "2020-05-23 14:42:56,510 epoch 1 - iter 96/129 - loss 0.18295101 - samples/sec: 6.92\n",
            "2020-05-23 14:43:40,902 epoch 1 - iter 108/129 - loss 0.17265417 - samples/sec: 8.66\n",
            "2020-05-23 14:44:30,018 epoch 1 - iter 120/129 - loss 0.16223200 - samples/sec: 7.82\n",
            "2020-05-23 14:45:02,216 ----------------------------------------------------------------------------------------------------\n",
            "2020-05-23 14:45:02,218 EPOCH 1 done: loss 0.1562 - lr 0.1000000\n",
            "2020-05-23 14:45:57,134 DEV : loss 0.06923426687717438 - score 0.9806\n",
            "2020-05-23 14:45:57,449 BAD EPOCHS (no improvement): 0\n",
            "saving best model\n",
            "2020-05-23 14:46:00,729 ----------------------------------------------------------------------------------------------------\n",
            "2020-05-23 14:46:50,534 epoch 2 - iter 12/129 - loss 0.05000408 - samples/sec: 7.89\n",
            "2020-05-23 14:47:50,052 epoch 2 - iter 24/129 - loss 0.07461158 - samples/sec: 6.46\n",
            "2020-05-23 14:48:51,979 epoch 2 - iter 36/129 - loss 0.09592824 - samples/sec: 6.21\n",
            "2020-05-23 14:49:51,497 epoch 2 - iter 48/129 - loss 0.08629239 - samples/sec: 6.46\n",
            "2020-05-23 14:50:38,798 epoch 2 - iter 60/129 - loss 0.07536445 - samples/sec: 8.13\n",
            "2020-05-23 14:51:23,780 epoch 2 - iter 72/129 - loss 0.08016211 - samples/sec: 8.66\n",
            "2020-05-23 14:52:13,006 epoch 2 - iter 84/129 - loss 0.08036298 - samples/sec: 7.81\n",
            "2020-05-23 14:53:11,668 epoch 2 - iter 96/129 - loss 0.08058927 - samples/sec: 6.55\n",
            "2020-05-23 14:53:57,195 epoch 2 - iter 108/129 - loss 0.08115634 - samples/sec: 8.44\n",
            "2020-05-23 14:54:46,236 epoch 2 - iter 120/129 - loss 0.08602069 - samples/sec: 7.84\n",
            "2020-05-23 14:55:20,565 ----------------------------------------------------------------------------------------------------\n",
            "2020-05-23 14:55:20,566 EPOCH 2 done: loss 0.0818 - lr 0.1000000\n",
            "2020-05-23 14:56:17,307 DEV : loss 0.06292398273944855 - score 0.9806\n",
            "2020-05-23 14:56:17,623 BAD EPOCHS (no improvement): 0\n",
            "saving best model\n",
            "2020-05-23 14:56:20,877 ----------------------------------------------------------------------------------------------------\n",
            "2020-05-23 14:57:12,422 epoch 3 - iter 12/129 - loss 0.04115744 - samples/sec: 7.52\n",
            "2020-05-23 14:57:57,006 epoch 3 - iter 24/129 - loss 0.05982151 - samples/sec: 8.62\n",
            "2020-05-23 14:58:52,911 epoch 3 - iter 36/129 - loss 0.06058551 - samples/sec: 6.87\n",
            "2020-05-23 14:59:47,967 epoch 3 - iter 48/129 - loss 0.05816981 - samples/sec: 6.98\n",
            "2020-05-23 15:00:40,827 epoch 3 - iter 60/129 - loss 0.05944022 - samples/sec: 7.27\n",
            "2020-05-23 15:01:24,748 epoch 3 - iter 72/129 - loss 0.06231018 - samples/sec: 8.75\n",
            "2020-05-23 15:02:06,621 epoch 3 - iter 84/129 - loss 0.05771870 - samples/sec: 9.18\n",
            "2020-05-23 15:02:59,018 epoch 3 - iter 96/129 - loss 0.06396200 - samples/sec: 7.34\n",
            "2020-05-23 15:03:51,345 epoch 3 - iter 108/129 - loss 0.06806367 - samples/sec: 7.35\n",
            "2020-05-23 15:04:54,271 epoch 3 - iter 120/129 - loss 0.06586621 - samples/sec: 6.16\n",
            "2020-05-23 15:05:28,030 ----------------------------------------------------------------------------------------------------\n",
            "2020-05-23 15:05:28,031 EPOCH 3 done: loss 0.0643 - lr 0.1000000\n",
            "2020-05-23 15:06:22,974 DEV : loss 0.06887958943843842 - score 0.9806\n",
            "2020-05-23 15:06:23,304 BAD EPOCHS (no improvement): 1\n",
            "2020-05-23 15:06:23,305 ----------------------------------------------------------------------------------------------------\n",
            "2020-05-23 15:07:21,312 epoch 4 - iter 12/129 - loss 0.09440665 - samples/sec: 6.67\n",
            "2020-05-23 15:08:22,201 epoch 4 - iter 24/129 - loss 0.07196882 - samples/sec: 6.31\n",
            "2020-05-23 15:09:02,448 epoch 4 - iter 36/129 - loss 0.06253010 - samples/sec: 9.71\n",
            "2020-05-23 15:10:00,967 epoch 4 - iter 48/129 - loss 0.05276360 - samples/sec: 6.57\n",
            "2020-05-23 15:10:45,827 epoch 4 - iter 60/129 - loss 0.05065736 - samples/sec: 8.57\n",
            "2020-05-23 15:11:30,360 epoch 4 - iter 72/129 - loss 0.04643356 - samples/sec: 8.63\n",
            "2020-05-23 15:12:18,503 epoch 4 - iter 84/129 - loss 0.04318434 - samples/sec: 7.99\n",
            "2020-05-23 15:13:10,452 epoch 4 - iter 96/129 - loss 0.04177681 - samples/sec: 7.40\n",
            "2020-05-23 15:13:47,925 epoch 4 - iter 108/129 - loss 0.04260673 - samples/sec: 10.42\n",
            "2020-05-23 15:14:36,370 epoch 4 - iter 120/129 - loss 0.04781679 - samples/sec: 7.93\n",
            "2020-05-23 15:15:18,700 ----------------------------------------------------------------------------------------------------\n",
            "2020-05-23 15:15:18,701 EPOCH 4 done: loss 0.0470 - lr 0.1000000\n",
            "2020-05-23 15:16:14,257 DEV : loss 0.06310033053159714 - score 0.9825\n",
            "2020-05-23 15:16:14,575 BAD EPOCHS (no improvement): 0\n",
            "saving best model\n",
            "2020-05-23 15:16:17,829 ----------------------------------------------------------------------------------------------------\n",
            "2020-05-23 15:17:03,558 epoch 5 - iter 12/129 - loss 0.25005592 - samples/sec: 8.50\n",
            "2020-05-23 15:18:00,430 epoch 5 - iter 24/129 - loss 0.15576440 - samples/sec: 6.84\n",
            "2020-05-23 15:18:49,391 epoch 5 - iter 36/129 - loss 0.12400472 - samples/sec: 7.85\n",
            "2020-05-23 15:19:44,760 epoch 5 - iter 48/129 - loss 0.10599748 - samples/sec: 6.94\n",
            "2020-05-23 15:20:27,134 epoch 5 - iter 60/129 - loss 0.09304740 - samples/sec: 9.08\n",
            "2020-05-23 15:21:26,044 epoch 5 - iter 72/129 - loss 0.08133767 - samples/sec: 6.52\n",
            "2020-05-23 15:22:19,612 epoch 5 - iter 84/129 - loss 0.07688884 - samples/sec: 7.26\n",
            "2020-05-23 15:23:23,174 epoch 5 - iter 96/129 - loss 0.06964493 - samples/sec: 6.05\n",
            "2020-05-23 15:24:05,659 epoch 5 - iter 108/129 - loss 0.06656537 - samples/sec: 9.05\n",
            "2020-05-23 15:24:55,471 epoch 5 - iter 120/129 - loss 0.06756562 - samples/sec: 7.71\n",
            "2020-05-23 15:25:34,249 ----------------------------------------------------------------------------------------------------\n",
            "2020-05-23 15:25:34,250 EPOCH 5 done: loss 0.0661 - lr 0.1000000\n",
            "2020-05-23 15:26:30,097 DEV : loss 0.06192026287317276 - score 0.9825\n",
            "2020-05-23 15:26:30,419 BAD EPOCHS (no improvement): 0\n",
            "saving best model\n",
            "2020-05-23 15:26:33,777 ----------------------------------------------------------------------------------------------------\n",
            "2020-05-23 15:27:24,480 epoch 6 - iter 12/129 - loss 0.01547201 - samples/sec: 7.77\n",
            "2020-05-23 15:28:21,479 epoch 6 - iter 24/129 - loss 0.03827965 - samples/sec: 6.74\n",
            "2020-05-23 15:29:14,010 epoch 6 - iter 36/129 - loss 0.03895365 - samples/sec: 7.32\n",
            "2020-05-23 15:30:00,094 epoch 6 - iter 48/129 - loss 0.04807240 - samples/sec: 8.34\n",
            "2020-05-23 15:30:49,625 epoch 6 - iter 60/129 - loss 0.05271291 - samples/sec: 7.76\n",
            "2020-05-23 15:31:51,695 epoch 6 - iter 72/129 - loss 0.04882548 - samples/sec: 6.19\n",
            "2020-05-23 15:32:39,921 epoch 6 - iter 84/129 - loss 0.04737367 - samples/sec: 8.07\n",
            "2020-05-23 15:33:27,642 epoch 6 - iter 96/129 - loss 0.04348512 - samples/sec: 8.05\n",
            "2020-05-23 15:34:11,865 epoch 6 - iter 108/129 - loss 0.04264835 - samples/sec: 8.69\n",
            "2020-05-23 15:35:14,387 epoch 6 - iter 120/129 - loss 0.04210593 - samples/sec: 6.15\n",
            "2020-05-23 15:35:48,148 ----------------------------------------------------------------------------------------------------\n",
            "2020-05-23 15:35:48,149 EPOCH 6 done: loss 0.0452 - lr 0.1000000\n",
            "2020-05-23 15:36:44,047 DEV : loss 0.09851007908582687 - score 0.9728\n",
            "2020-05-23 15:36:44,384 BAD EPOCHS (no improvement): 1\n",
            "2020-05-23 15:36:44,385 ----------------------------------------------------------------------------------------------------\n",
            "2020-05-23 15:37:39,528 epoch 7 - iter 12/129 - loss 0.05551690 - samples/sec: 7.03\n",
            "2020-05-23 15:38:33,173 epoch 7 - iter 24/129 - loss 0.05197814 - samples/sec: 7.17\n",
            "2020-05-23 15:39:27,820 epoch 7 - iter 36/129 - loss 0.04484061 - samples/sec: 7.03\n",
            "2020-05-23 15:40:18,973 epoch 7 - iter 48/129 - loss 0.04596037 - samples/sec: 7.51\n",
            "2020-05-23 15:41:25,980 epoch 7 - iter 60/129 - loss 0.04038090 - samples/sec: 5.80\n",
            "2020-05-23 15:42:20,281 epoch 7 - iter 72/129 - loss 0.03860429 - samples/sec: 7.08\n",
            "2020-05-23 15:43:01,421 epoch 7 - iter 84/129 - loss 0.04017828 - samples/sec: 9.35\n",
            "2020-05-23 15:43:51,373 epoch 7 - iter 96/129 - loss 0.04143963 - samples/sec: 7.69\n",
            "2020-05-23 15:44:47,693 epoch 7 - iter 108/129 - loss 0.04121336 - samples/sec: 6.82\n",
            "2020-05-23 15:45:39,558 epoch 7 - iter 120/129 - loss 0.04409640 - samples/sec: 7.50\n",
            "2020-05-23 15:46:06,267 ----------------------------------------------------------------------------------------------------\n",
            "2020-05-23 15:46:06,269 EPOCH 7 done: loss 0.0447 - lr 0.1000000\n",
            "2020-05-23 15:47:02,067 DEV : loss 0.06243825703859329 - score 0.9806\n",
            "2020-05-23 15:47:02,390 BAD EPOCHS (no improvement): 2\n",
            "2020-05-23 15:47:02,392 ----------------------------------------------------------------------------------------------------\n",
            "2020-05-23 15:47:51,784 epoch 8 - iter 12/129 - loss 0.02004165 - samples/sec: 7.86\n",
            "2020-05-23 15:48:37,649 epoch 8 - iter 24/129 - loss 0.02841171 - samples/sec: 8.38\n",
            "2020-05-23 15:49:36,518 epoch 8 - iter 36/129 - loss 0.02823159 - samples/sec: 6.53\n",
            "2020-05-23 15:50:44,730 epoch 8 - iter 48/129 - loss 0.02938784 - samples/sec: 5.69\n",
            "2020-05-23 15:51:47,138 epoch 8 - iter 60/129 - loss 0.03239409 - samples/sec: 6.16\n",
            "2020-05-23 15:52:33,866 epoch 8 - iter 72/129 - loss 0.04109787 - samples/sec: 8.23\n",
            "2020-05-23 15:53:16,100 epoch 8 - iter 84/129 - loss 0.04335858 - samples/sec: 9.10\n",
            "2020-05-23 15:54:01,621 epoch 8 - iter 96/129 - loss 0.04160989 - samples/sec: 8.45\n",
            "2020-05-23 15:54:50,393 epoch 8 - iter 108/129 - loss 0.04095864 - samples/sec: 7.88\n",
            "2020-05-23 15:55:43,917 epoch 8 - iter 120/129 - loss 0.04159972 - samples/sec: 7.18\n",
            "2020-05-23 15:56:14,632 ----------------------------------------------------------------------------------------------------\n",
            "2020-05-23 15:56:14,633 EPOCH 8 done: loss 0.0466 - lr 0.1000000\n",
            "2020-05-23 15:57:11,412 DEV : loss 0.06359170377254486 - score 0.9786\n",
            "2020-05-23 15:57:11,731 BAD EPOCHS (no improvement): 3\n",
            "2020-05-23 15:57:11,733 ----------------------------------------------------------------------------------------------------\n",
            "2020-05-23 15:58:07,218 epoch 9 - iter 12/129 - loss 0.03813825 - samples/sec: 6.99\n",
            "2020-05-23 15:58:59,560 epoch 9 - iter 24/129 - loss 0.04575669 - samples/sec: 7.34\n",
            "2020-05-23 16:00:03,682 epoch 9 - iter 36/129 - loss 0.04156995 - samples/sec: 6.08\n",
            "2020-05-23 16:00:54,280 epoch 9 - iter 48/129 - loss 0.03971760 - samples/sec: 7.60\n",
            "2020-05-23 16:01:39,764 epoch 9 - iter 60/129 - loss 0.04062667 - samples/sec: 8.45\n",
            "2020-05-23 16:02:32,563 epoch 9 - iter 72/129 - loss 0.03670020 - samples/sec: 7.28\n",
            "2020-05-23 16:03:17,451 epoch 9 - iter 84/129 - loss 0.03639805 - samples/sec: 8.56\n",
            "2020-05-23 16:04:10,463 epoch 9 - iter 96/129 - loss 0.03863232 - samples/sec: 7.25\n",
            "2020-05-23 16:05:01,735 epoch 9 - iter 108/129 - loss 0.03744043 - samples/sec: 7.50\n",
            "2020-05-23 16:05:59,121 epoch 9 - iter 120/129 - loss 0.03581403 - samples/sec: 6.70\n",
            "2020-05-23 16:06:36,250 ----------------------------------------------------------------------------------------------------\n",
            "2020-05-23 16:06:36,252 EPOCH 9 done: loss 0.0356 - lr 0.1000000\n",
            "2020-05-23 16:07:32,355 DEV : loss 0.06407099962234497 - score 0.9786\n",
            "Epoch     9: reducing learning rate of group 0 to 5.0000e-02.\n",
            "2020-05-23 16:07:32,688 BAD EPOCHS (no improvement): 4\n",
            "2020-05-23 16:07:32,690 ----------------------------------------------------------------------------------------------------\n",
            "2020-05-23 16:08:24,236 epoch 10 - iter 12/129 - loss 0.03611151 - samples/sec: 7.53\n",
            "2020-05-23 16:09:18,445 epoch 10 - iter 24/129 - loss 0.02658081 - samples/sec: 7.18\n",
            "2020-05-23 16:10:09,462 epoch 10 - iter 36/129 - loss 0.02819571 - samples/sec: 7.53\n",
            "2020-05-23 16:10:54,937 epoch 10 - iter 48/129 - loss 0.02690854 - samples/sec: 8.46\n",
            "2020-05-23 16:11:42,933 epoch 10 - iter 60/129 - loss 0.02441549 - samples/sec: 8.01\n",
            "2020-05-23 16:12:46,558 epoch 10 - iter 72/129 - loss 0.02569763 - samples/sec: 6.04\n",
            "2020-05-23 16:13:35,301 epoch 10 - iter 84/129 - loss 0.02590688 - samples/sec: 7.88\n",
            "2020-05-23 16:14:24,067 epoch 10 - iter 96/129 - loss 0.02831289 - samples/sec: 7.98\n",
            "2020-05-23 16:15:16,243 epoch 10 - iter 108/129 - loss 0.02836778 - samples/sec: 7.37\n",
            "2020-05-23 16:16:17,165 epoch 10 - iter 120/129 - loss 0.02714464 - samples/sec: 6.31\n",
            "2020-05-23 16:16:55,677 ----------------------------------------------------------------------------------------------------\n",
            "2020-05-23 16:16:55,678 EPOCH 10 done: loss 0.0277 - lr 0.0500000\n",
            "2020-05-23 16:17:50,673 DEV : loss 0.06524772942066193 - score 0.9786\n",
            "2020-05-23 16:17:51,015 BAD EPOCHS (no improvement): 1\n",
            "2020-05-23 16:17:54,536 ----------------------------------------------------------------------------------------------------\n",
            "2020-05-23 16:17:54,557 Testing using best model ...\n",
            "2020-05-23 16:17:54,566 loading file best-model.pt\n",
            "2020-05-23 16:19:11,285 0.9941634241245136\t0.9941634241245136\t0.9941634241245136\n",
            "2020-05-23 16:19:11,287 \n",
            "MICRO_AVG: acc 0.9941634241245136 - f1-score 0.9941634241245136\n",
            "MACRO_AVG: acc 0.9941634241245136 - f1-score 0.9859495020365021\n",
            "ham        tp: 452 - fp: 2 - fn: 1 - tn: 59 - precision: 0.9956 - recall: 0.9978 - accuracy: 0.9942 - f1-score: 0.9967\n",
            "spam       tp: 59 - fp: 1 - fn: 2 - tn: 452 - precision: 0.9833 - recall: 0.9672 - accuracy: 0.9942 - f1-score: 0.9752\n",
            "2020-05-23 16:19:11,287 ----------------------------------------------------------------------------------------------------\n"
          ],
          "name": "stdout"
        },
        {
          "output_type": "execute_result",
          "data": {
            "text/plain": [
              "{'dev_loss_history': [0.06923426687717438,\n",
              "  0.06292398273944855,\n",
              "  0.06887958943843842,\n",
              "  0.06310033053159714,\n",
              "  0.06192026287317276,\n",
              "  0.09851007908582687,\n",
              "  0.06243825703859329,\n",
              "  0.06359170377254486,\n",
              "  0.06407099962234497,\n",
              "  0.06524772942066193],\n",
              " 'dev_score_history': [0.9805825242718447,\n",
              "  0.9805825242718447,\n",
              "  0.9805825242718447,\n",
              "  0.9825242718446602,\n",
              "  0.9825242718446602,\n",
              "  0.9728155339805825,\n",
              "  0.9805825242718447,\n",
              "  0.9786407766990292,\n",
              "  0.9786407766990292,\n",
              "  0.9786407766990292],\n",
              " 'test_score': 0.9941634241245136,\n",
              " 'train_loss_history': [0.15621276603751752,\n",
              "  0.08184008190206202,\n",
              "  0.06434077575492363,\n",
              "  0.046985920841711784,\n",
              "  0.06609469038243009,\n",
              "  0.045215376169969464,\n",
              "  0.044740884456523626,\n",
              "  0.04659193183986701,\n",
              "  0.035643750678724426,\n",
              "  0.027727153767243228]}"
            ]
          },
          "metadata": {
            "tags": []
          },
          "execution_count": 7
        }
      ]
    },
    {
      "cell_type": "code",
      "metadata": {
        "id": "b1zzlU0PbjPR",
        "colab_type": "code",
        "colab": {}
      },
      "source": [
        ""
      ],
      "execution_count": 0,
      "outputs": []
    }
  ]
}